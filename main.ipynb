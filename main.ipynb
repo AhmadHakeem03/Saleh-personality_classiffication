{
 "cells": [
  {
   "metadata": {},
   "cell_type": "markdown",
   "source": [
    "### About Dataset\n",
    "\n",
    "\n",
    "Dive into the Extrovert vs. Introvert Personality Traits Dataset, a rich collection of behavioral and social data designed to explore the spectrum of human personality. This dataset captures key indicators of extroversion and introversion, making it a valuable resource for psychologists, data scientists, and researchers studying social behavior, personality prediction, or data preprocessing techniques."
   ],
   "id": "4ec13fb9a735ddaa"
  },
  {
   "cell_type": "code",
   "id": "initial_id",
   "metadata": {
    "collapsed": true,
    "ExecuteTime": {
     "end_time": "2025-06-25T22:44:22.632783Z",
     "start_time": "2025-06-25T22:44:22.573369Z"
    }
   },
   "source": [
    "import pandas as pd\n",
    "import numpy as np\n",
    "import seaborn as sns\n",
    "import matplotlib.pyplot as plt\n",
    "from sklearn.model_selection import train_test_split\n",
    "from sklearn.preprocessing import StandardScaler\n",
    "from sklearn.neighbors import KNeighborsClassifier\n",
    "from sklearn.naive_bayes import GaussianNB\n",
    "from sklearn.linear_model import LogisticRegression\n",
    "from sklearn.tree import DecisionTreeClassifier\n",
    "from sklearn.metrics import accuracy_score, classification_report, ConfusionMatrixDisplay"
   ],
   "outputs": [],
   "execution_count": 33
  },
  {
   "metadata": {},
   "cell_type": "markdown",
   "source": "#### DataSet overview",
   "id": "7fa6001b60b43e90"
  },
  {
   "metadata": {
    "ExecuteTime": {
     "end_time": "2025-06-25T22:30:48.241294Z",
     "start_time": "2025-06-25T22:30:48.227672Z"
    }
   },
   "cell_type": "code",
   "source": "df = pd.read_csv('personality_dataset.csv')",
   "id": "c84cb70656145b9e",
   "outputs": [],
   "execution_count": 16
  },
  {
   "metadata": {
    "ExecuteTime": {
     "end_time": "2025-06-25T22:30:48.877090Z",
     "start_time": "2025-06-25T22:30:48.860337Z"
    }
   },
   "cell_type": "code",
   "source": "df.info()",
   "id": "82fca59d6ed60486",
   "outputs": [
    {
     "name": "stdout",
     "output_type": "stream",
     "text": [
      "<class 'pandas.core.frame.DataFrame'>\n",
      "RangeIndex: 2900 entries, 0 to 2899\n",
      "Data columns (total 8 columns):\n",
      " #   Column                     Non-Null Count  Dtype  \n",
      "---  ------                     --------------  -----  \n",
      " 0   Time_spent_Alone           2837 non-null   float64\n",
      " 1   Stage_fear                 2827 non-null   object \n",
      " 2   Social_event_attendance    2838 non-null   float64\n",
      " 3   Going_outside              2834 non-null   float64\n",
      " 4   Drained_after_socializing  2848 non-null   object \n",
      " 5   Friends_circle_size        2823 non-null   float64\n",
      " 6   Post_frequency             2835 non-null   float64\n",
      " 7   Personality                2900 non-null   object \n",
      "dtypes: float64(5), object(3)\n",
      "memory usage: 181.4+ KB\n"
     ]
    }
   ],
   "execution_count": 17
  },
  {
   "metadata": {
    "ExecuteTime": {
     "end_time": "2025-06-25T22:30:49.564350Z",
     "start_time": "2025-06-25T22:30:49.547625Z"
    }
   },
   "cell_type": "code",
   "source": "df.head()",
   "id": "b2022eb8ca398f7b",
   "outputs": [
    {
     "data": {
      "text/plain": [
       "   Time_spent_Alone Stage_fear  Social_event_attendance  Going_outside  \\\n",
       "0               4.0         No                      4.0            6.0   \n",
       "1               9.0        Yes                      0.0            0.0   \n",
       "2               9.0        Yes                      1.0            2.0   \n",
       "3               0.0         No                      6.0            7.0   \n",
       "4               3.0         No                      9.0            4.0   \n",
       "\n",
       "  Drained_after_socializing  Friends_circle_size  Post_frequency Personality  \n",
       "0                        No                 13.0             5.0   Extrovert  \n",
       "1                       Yes                  0.0             3.0   Introvert  \n",
       "2                       Yes                  5.0             2.0   Introvert  \n",
       "3                        No                 14.0             8.0   Extrovert  \n",
       "4                        No                  8.0             5.0   Extrovert  "
      ],
      "text/html": [
       "<div>\n",
       "<style scoped>\n",
       "    .dataframe tbody tr th:only-of-type {\n",
       "        vertical-align: middle;\n",
       "    }\n",
       "\n",
       "    .dataframe tbody tr th {\n",
       "        vertical-align: top;\n",
       "    }\n",
       "\n",
       "    .dataframe thead th {\n",
       "        text-align: right;\n",
       "    }\n",
       "</style>\n",
       "<table border=\"1\" class=\"dataframe\">\n",
       "  <thead>\n",
       "    <tr style=\"text-align: right;\">\n",
       "      <th></th>\n",
       "      <th>Time_spent_Alone</th>\n",
       "      <th>Stage_fear</th>\n",
       "      <th>Social_event_attendance</th>\n",
       "      <th>Going_outside</th>\n",
       "      <th>Drained_after_socializing</th>\n",
       "      <th>Friends_circle_size</th>\n",
       "      <th>Post_frequency</th>\n",
       "      <th>Personality</th>\n",
       "    </tr>\n",
       "  </thead>\n",
       "  <tbody>\n",
       "    <tr>\n",
       "      <th>0</th>\n",
       "      <td>4.0</td>\n",
       "      <td>No</td>\n",
       "      <td>4.0</td>\n",
       "      <td>6.0</td>\n",
       "      <td>No</td>\n",
       "      <td>13.0</td>\n",
       "      <td>5.0</td>\n",
       "      <td>Extrovert</td>\n",
       "    </tr>\n",
       "    <tr>\n",
       "      <th>1</th>\n",
       "      <td>9.0</td>\n",
       "      <td>Yes</td>\n",
       "      <td>0.0</td>\n",
       "      <td>0.0</td>\n",
       "      <td>Yes</td>\n",
       "      <td>0.0</td>\n",
       "      <td>3.0</td>\n",
       "      <td>Introvert</td>\n",
       "    </tr>\n",
       "    <tr>\n",
       "      <th>2</th>\n",
       "      <td>9.0</td>\n",
       "      <td>Yes</td>\n",
       "      <td>1.0</td>\n",
       "      <td>2.0</td>\n",
       "      <td>Yes</td>\n",
       "      <td>5.0</td>\n",
       "      <td>2.0</td>\n",
       "      <td>Introvert</td>\n",
       "    </tr>\n",
       "    <tr>\n",
       "      <th>3</th>\n",
       "      <td>0.0</td>\n",
       "      <td>No</td>\n",
       "      <td>6.0</td>\n",
       "      <td>7.0</td>\n",
       "      <td>No</td>\n",
       "      <td>14.0</td>\n",
       "      <td>8.0</td>\n",
       "      <td>Extrovert</td>\n",
       "    </tr>\n",
       "    <tr>\n",
       "      <th>4</th>\n",
       "      <td>3.0</td>\n",
       "      <td>No</td>\n",
       "      <td>9.0</td>\n",
       "      <td>4.0</td>\n",
       "      <td>No</td>\n",
       "      <td>8.0</td>\n",
       "      <td>5.0</td>\n",
       "      <td>Extrovert</td>\n",
       "    </tr>\n",
       "  </tbody>\n",
       "</table>\n",
       "</div>"
      ]
     },
     "execution_count": 18,
     "metadata": {},
     "output_type": "execute_result"
    }
   ],
   "execution_count": 18
  },
  {
   "metadata": {
    "ExecuteTime": {
     "end_time": "2025-06-25T22:30:51.499224Z",
     "start_time": "2025-06-25T22:30:51.492602Z"
    }
   },
   "cell_type": "code",
   "source": [
    "x = df.iloc[:,:-1].values\n",
    "y = df.iloc[:,-1].values"
   ],
   "id": "21609383a892a816",
   "outputs": [],
   "execution_count": 19
  },
  {
   "metadata": {
    "ExecuteTime": {
     "end_time": "2025-06-25T22:36:33.158155Z",
     "start_time": "2025-06-25T22:36:33.145040Z"
    }
   },
   "cell_type": "code",
   "source": [
    "from sklearn.impute import SimpleImputer\n",
    "# Select the desired columns: 0, 2, 3, 5, 6\n",
    "selected_columns = [0, 2, 3, 5, 6]\n",
    "\n",
    "# Create the imputer\n",
    "imputer = SimpleImputer(missing_values=np.nan, strategy='mean')\n",
    "\n",
    "# Fit and transform only the selected columns\n",
    "x[:, selected_columns] = imputer.fit_transform(x[:, selected_columns])"
   ],
   "id": "bc864c85f95dee8f",
   "outputs": [],
   "execution_count": 23
  },
  {
   "metadata": {
    "ExecuteTime": {
     "end_time": "2025-06-25T22:36:41.871585Z",
     "start_time": "2025-06-25T22:36:41.853496Z"
    }
   },
   "cell_type": "code",
   "source": "x",
   "id": "882ecbb22a10403a",
   "outputs": [
    {
     "data": {
      "text/plain": [
       "array([[4.0, 'No', 4.0, ..., 'No', 13.0, 5.0],\n",
       "       [9.0, 'Yes', 0.0, ..., 'Yes', 0.0, 3.0],\n",
       "       [9.0, 'Yes', 1.0, ..., 'Yes', 5.0, 2.0],\n",
       "       ...,\n",
       "       [4.0, 'Yes', 1.0, ..., 'Yes', 4.0, 0.0],\n",
       "       [11.0, 'Yes', 1.0, ..., 'Yes', 2.0, 0.0],\n",
       "       [3.0, 'No', 6.0, ..., 'No', 6.0, 9.0]], dtype=object)"
      ]
     },
     "execution_count": 24,
     "metadata": {},
     "output_type": "execute_result"
    }
   ],
   "execution_count": 24
  },
  {
   "metadata": {
    "ExecuteTime": {
     "end_time": "2025-06-25T22:39:41.187155Z",
     "start_time": "2025-06-25T22:39:41.167105Z"
    }
   },
   "cell_type": "code",
   "source": [
    "from sklearn.preprocessing import LabelEncoder\n",
    "\n",
    "le = LabelEncoder()\n",
    "\n",
    "# Encode column 4 (index 3)\n",
    "x[:, 4] = le.fit_transform(x[:, 4])"
   ],
   "id": "f2a1cd326cfe6283",
   "outputs": [],
   "execution_count": 26
  },
  {
   "metadata": {
    "ExecuteTime": {
     "end_time": "2025-06-25T22:40:18.962Z",
     "start_time": "2025-06-25T22:40:18.948933Z"
    }
   },
   "cell_type": "code",
   "source": [
    "from sklearn.preprocessing import LabelEncoder\n",
    "\n",
    "le = LabelEncoder()\n",
    "\n",
    "x[:, 1] = le.fit_transform(x[:, 1])"
   ],
   "id": "335cdf0a72f25281",
   "outputs": [],
   "execution_count": 27
  },
  {
   "metadata": {
    "ExecuteTime": {
     "end_time": "2025-06-25T22:40:22.654365Z",
     "start_time": "2025-06-25T22:40:22.636123Z"
    }
   },
   "cell_type": "code",
   "source": "x",
   "id": "c4c9f45908327c4f",
   "outputs": [
    {
     "data": {
      "text/plain": [
       "array([[4.0, 0, 4.0, ..., 0, 13.0, 5.0],\n",
       "       [9.0, 1, 0.0, ..., 1, 0.0, 3.0],\n",
       "       [9.0, 1, 1.0, ..., 1, 5.0, 2.0],\n",
       "       ...,\n",
       "       [4.0, 1, 1.0, ..., 1, 4.0, 0.0],\n",
       "       [11.0, 1, 1.0, ..., 1, 2.0, 0.0],\n",
       "       [3.0, 0, 6.0, ..., 0, 6.0, 9.0]], dtype=object)"
      ]
     },
     "execution_count": 28,
     "metadata": {},
     "output_type": "execute_result"
    }
   ],
   "execution_count": 28
  },
  {
   "metadata": {
    "ExecuteTime": {
     "end_time": "2025-06-25T22:40:35.663542Z",
     "start_time": "2025-06-25T22:40:35.649625Z"
    }
   },
   "cell_type": "code",
   "source": [
    "from sklearn.preprocessing import LabelEncoder\n",
    "\n",
    "le = LabelEncoder()\n",
    "\n",
    "# Encode column 4 (index 3)\n",
    "y = le.fit_transform(y)"
   ],
   "id": "f01b9943eddc5248",
   "outputs": [],
   "execution_count": 29
  },
  {
   "metadata": {
    "ExecuteTime": {
     "end_time": "2025-06-25T22:40:38.456130Z",
     "start_time": "2025-06-25T22:40:38.446205Z"
    }
   },
   "cell_type": "code",
   "source": "y",
   "id": "2e35be75dd894c5c",
   "outputs": [
    {
     "data": {
      "text/plain": [
       "array([0, 1, 1, ..., 1, 1, 0])"
      ]
     },
     "execution_count": 30,
     "metadata": {},
     "output_type": "execute_result"
    }
   ],
   "execution_count": 30
  },
  {
   "metadata": {},
   "cell_type": "markdown",
   "source": "### split data",
   "id": "7ccc7f1fb9353b6"
  },
  {
   "metadata": {
    "ExecuteTime": {
     "end_time": "2025-06-25T22:41:24.269512Z",
     "start_time": "2025-06-25T22:41:24.252992Z"
    }
   },
   "cell_type": "code",
   "source": [
    "from sklearn.model_selection import train_test_split\n",
    "X_train, X_test, y_train, y_test = train_test_split(x, y, test_size = 0.2, random_state = 1)"
   ],
   "id": "4c242443544bfe43",
   "outputs": [],
   "execution_count": 31
  },
  {
   "metadata": {
    "ExecuteTime": {
     "end_time": "2025-06-25T22:43:38.769913Z",
     "start_time": "2025-06-25T22:43:38.743884Z"
    }
   },
   "cell_type": "code",
   "source": [
    "from sklearn.preprocessing import StandardScaler\n",
    "sc = StandardScaler()\n",
    "X_train[:, :] = sc.fit_transform(X_train[:, :])\n",
    "X_test[:, :] = sc.transform(X_test[:, :])"
   ],
   "id": "837839515357d9b1",
   "outputs": [],
   "execution_count": 32
  },
  {
   "metadata": {},
   "cell_type": "markdown",
   "source": "## Apply KNN",
   "id": "12fefaadc7f7e085"
  },
  {
   "metadata": {
    "ExecuteTime": {
     "end_time": "2025-06-25T22:44:54.475075Z",
     "start_time": "2025-06-25T22:44:54.430433Z"
    }
   },
   "cell_type": "code",
   "source": [
    "knn = KNeighborsClassifier(n_neighbors=5, weights='uniform')\n",
    "knn.fit(X_train, y_train)\n",
    "y_hat_knn = knn.predict(X_test)"
   ],
   "id": "c0fb0ed5b38bb8b5",
   "outputs": [],
   "execution_count": 34
  },
  {
   "metadata": {
    "ExecuteTime": {
     "end_time": "2025-06-25T22:45:09.473619Z",
     "start_time": "2025-06-25T22:45:09.453056Z"
    }
   },
   "cell_type": "code",
   "source": [
    "# To compare performance\n",
    "acc = accuracy_score(y_test, y_hat_knn)\n",
    "print(f\"Model accuracy was {acc*100:.2f}%\")\n",
    "\n",
    "report = classification_report(y_test, y_hat_knn)\n",
    "print(report)"
   ],
   "id": "6278a8835f6a9b4b",
   "outputs": [
    {
     "name": "stdout",
     "output_type": "stream",
     "text": [
      "Model accuracy was 91.38%\n",
      "              precision    recall  f1-score   support\n",
      "\n",
      "           0       0.95      0.89      0.92       318\n",
      "           1       0.88      0.94      0.91       262\n",
      "\n",
      "    accuracy                           0.91       580\n",
      "   macro avg       0.91      0.92      0.91       580\n",
      "weighted avg       0.92      0.91      0.91       580\n",
      "\n"
     ]
    }
   ],
   "execution_count": 35
  },
  {
   "metadata": {
    "ExecuteTime": {
     "end_time": "2025-06-25T22:46:05.132693Z",
     "start_time": "2025-06-25T22:46:04.943410Z"
    }
   },
   "cell_type": "code",
   "source": [
    "ConfusionMatrixDisplay.from_predictions(y_test, y_hat_knn, cmap=plt.cm.Blues)\n",
    "plt.show()"
   ],
   "id": "395ae900a5dcd757",
   "outputs": [
    {
     "data": {
      "text/plain": [
       "<Figure size 640x480 with 2 Axes>"
      ],
      "image/png": "[encoded data removed]"
     },
     "metadata": {},
     "output_type": "display_data"
    }
   ],
   "execution_count": 36
  },
  {
   "metadata": {},
   "cell_type": "markdown",
   "source": "## Naive Bayes Classifier",
   "id": "b7031417eb41158c"
  },
  {
   "metadata": {
    "ExecuteTime": {
     "end_time": "2025-06-25T22:46:58.751976Z",
     "start_time": "2025-06-25T22:46:58.737898Z"
    }
   },
   "cell_type": "code",
   "source": [
    "nb = GaussianNB()\n",
    "nb.fit(X_train, y_train)\n",
    "y_hat_nb = nb.predict(X_test)"
   ],
   "id": "61ef9681c02619eb",
   "outputs": [],
   "execution_count": 37
  },
  {
   "metadata": {
    "ExecuteTime": {
     "end_time": "2025-06-25T22:50:57.312278Z",
     "start_time": "2025-06-25T22:50:57.299727Z"
    }
   },
   "cell_type": "code",
   "source": [
    "acc = accuracy_score(y_test, y_hat_nb)\n",
    "print(f\"Model accuracy was {acc*100:.2f}%\")\n",
    "\n",
    "report = classification_report(y_test, y_hat_nb)\n",
    "print(report)"
   ],
   "id": "e298051ddbe790e",
   "outputs": [
    {
     "name": "stdout",
     "output_type": "stream",
     "text": [
      "Model accuracy was 91.72%\n",
      "              precision    recall  f1-score   support\n",
      "\n",
      "           0       0.95      0.90      0.92       318\n",
      "           1       0.88      0.94      0.91       262\n",
      "\n",
      "    accuracy                           0.92       580\n",
      "   macro avg       0.92      0.92      0.92       580\n",
      "weighted avg       0.92      0.92      0.92       580\n",
      "\n"
     ]
    }
   ],
   "execution_count": 45
  },
  {
   "metadata": {
    "ExecuteTime": {
     "end_time": "2025-06-25T22:47:41.930413Z",
     "start_time": "2025-06-25T22:47:41.807044Z"
    }
   },
   "cell_type": "code",
   "source": [
    "ConfusionMatrixDisplay.from_predictions(y_test, y_hat_nb, cmap=plt.cm.Blues)\n",
    "plt.show()"
   ],
   "id": "9c19d5bb066d9973",
   "outputs": [
    {
     "data": {
      "text/plain": [
       "<Figure size 640x480 with 2 Axes>"
      ],
      "image/png": "[encoded data removed]"
     },
     "metadata": {},
     "output_type": "display_data"
    }
   ],
   "execution_count": 39
  },
  {
   "metadata": {},
   "cell_type": "markdown",
   "source": "## Logistic Regression",
   "id": "77f7c7f60e6d8943"
  },
  {
   "metadata": {
    "ExecuteTime": {
     "end_time": "2025-06-25T22:50:04.584039Z",
     "start_time": "2025-06-25T22:50:04.563428Z"
    }
   },
   "cell_type": "code",
   "source": [
    "lr = LogisticRegression(multi_class='ovr') \n",
    "lr.fit(X_train, y_train)\n",
    "y_hat_lr = lr.predict(X_test)"
   ],
   "id": "4689c802f6661dd1",
   "outputs": [
    {
     "name": "stderr",
     "output_type": "stream",
     "text": [
      "C:\\Users\\DRT\\.conda\\envs\\DST_7\\lib\\site-packages\\sklearn\\linear_model\\_logistic.py:1256: FutureWarning: 'multi_class' was deprecated in version 1.5 and will be removed in 1.7. Use OneVsRestClassifier(LogisticRegression(..)) instead. Leave it to its default value to avoid this warning.\n",
      "  warnings.warn(\n"
     ]
    }
   ],
   "execution_count": 42
  },
  {
   "metadata": {
    "ExecuteTime": {
     "end_time": "2025-06-25T22:50:51.637941Z",
     "start_time": "2025-06-25T22:50:51.624575Z"
    }
   },
   "cell_type": "code",
   "source": [
    "acc = accuracy_score(y_test, y_hat_lr)\n",
    "print(f\"Model accuracy was {acc*100:.2f}%\")\n",
    "\n",
    "report = classification_report(y_test, y_hat_lr)\n",
    "print(report)"
   ],
   "id": "2e9e7740efe2ec91",
   "outputs": [
    {
     "name": "stdout",
     "output_type": "stream",
     "text": [
      "Model accuracy was 91.72%\n",
      "              precision    recall  f1-score   support\n",
      "\n",
      "           0       0.95      0.90      0.92       318\n",
      "           1       0.88      0.94      0.91       262\n",
      "\n",
      "    accuracy                           0.92       580\n",
      "   macro avg       0.92      0.92      0.92       580\n",
      "weighted avg       0.92      0.92      0.92       580\n",
      "\n"
     ]
    }
   ],
   "execution_count": 44
  },
  {
   "metadata": {},
   "cell_type": "markdown",
   "source": "### lets create a model to predict new input features",
   "id": "182c41509a6fb721"
  },
  {
   "metadata": {
    "ExecuteTime": {
     "end_time": "2025-06-25T23:07:17.248595Z",
     "start_time": "2025-06-25T23:06:43.674297Z"
    }
   },
   "cell_type": "code",
   "source": [
    "# User Input for New Data and Personality Prediction\n",
    "\n",
    "print(\"=== Personality Prediction System ===\")\n",
    "print(\"Please enter the following information:\")\n",
    "print()\n",
    "\n",
    "# Get user input for each feature\n",
    "Time_spent_Alone = float(input(\"Time spent alone (hours per day): \"))\n",
    "\n",
    "# Stage fear input (Yes/No)\n",
    "stage_fear_input = input(\"Stage fear (Yes/No): \").strip().lower()\n",
    "Stage_fear = 1 if stage_fear_input in ['yes', 'y'] else 0\n",
    "\n",
    "Social_event_attendance = float(input(\"Social event attendance (events per month): \"))\n",
    "Going_outside = float(input(\"Going outside (times per week): \"))\n",
    "\n",
    "# Drained after socializing input (Yes/No)\n",
    "drained_input = input(\"Drained after socializing (Yes/No): \").strip().lower()\n",
    "Drained_after_socializing = 1 if drained_input in ['yes', 'y'] else 0\n",
    "\n",
    "Friends_circle_size = float(input(\"Friends circle size (number of close friends): \"))\n",
    "Post_frequency = float(input(\"Post frequency (posts per week): \"))\n",
    "\n",
    "# Create the new data point\n",
    "new_data = [[Time_spent_Alone, Stage_fear, Social_event_attendance, \n",
    "             Going_outside, Drained_after_socializing, Friends_circle_size, Post_frequency]]\n",
    "\n",
    "print(\"\\n=== Input Summary ===\")\n",
    "print(f\"Time spent alone: {Time_spent_Alone}\")\n",
    "print(f\"Stage fear: {'Yes' if Stage_fear == 1 else 'No'}\")\n",
    "print(f\"Social event attendance: {Social_event_attendance}\")\n",
    "print(f\"Going outside: {Going_outside}\")\n",
    "print(f\"Drained after socializing: {'Yes' if Drained_after_socializing == 1 else 'No'}\")\n",
    "print(f\"Friends circle size: {Friends_circle_size}\")\n",
    "print(f\"Post frequency: {Post_frequency}\")\n",
    "\n",
    "# Scale the new data using the same scaler\n",
    "new_data_scaled = sc.transform(new_data)\n",
    "\n",
    "# Make prediction\n",
    "prediction = knn.predict(new_data_scaled)\n",
    "prediction_proba = knn.predict_proba(new_data_scaled)\n",
    "\n",
    "# Convert prediction back to personality type\n",
    "# Assuming 0 = Introvert, 1 = Extrovert (based on your label encoding)\n",
    "personality_type = \"Extrovert\" if prediction[0] == 1 else \"Introvert\"\n",
    "\n",
    "print(f\"\\n=== Prediction Result ===\")\n",
    "print(f\"Predicted Personality Type: {personality_type}\")\n",
    "print(f\"Confidence: {max(prediction_proba[0]) * 100:.2f}%\")\n",
    "print(f\"Probability - Introvert: {prediction_proba[0][0] * 100:.2f}%\")\n",
    "print(f\"Probability - Extrovert: {prediction_proba[0][1] * 100:.2f}%\")"
   ],
   "id": "82b5e0c081fca3f5",
   "outputs": [
    {
     "name": "stdout",
     "output_type": "stream",
     "text": [
      "=== Personality Prediction System ===\n",
      "Please enter the following information:\n",
      "\n",
      "\n",
      "=== Input Summary ===\n",
      "Time spent alone: 5.0\n",
      "Stage fear: No\n",
      "Social event attendance: 12.0\n",
      "Going outside: 6.0\n",
      "Drained after socializing: No\n",
      "Friends circle size: 12.0\n",
      "Post frequency: 6.0\n",
      "\n",
      "=== Prediction Result ===\n",
      "Predicted Personality Type: Introvert\n",
      "Confidence: 100.00%\n",
      "Probability - Introvert: 100.00%\n",
      "Probability - Extrovert: 0.00%\n"
     ]
    }
   ],
   "execution_count": 49
  }
 ],
 "metadata": {
  "kernelspec": {
   "display_name": "Python 3",
   "language": "python",
   "name": "python3"
  },
  "language_info": {
   "codemirror_mode": {
    "name": "ipython",
    "version": 2
   },
   "file_extension": ".py",
   "mimetype": "text/x-python",
   "name": "python",
   "nbconvert_exporter": "python",
   "pygments_lexer": "ipython2",
   "version": "2.7.6"
  }
 },
 "nbformat": 4,
 "nbformat_minor": 5
}
